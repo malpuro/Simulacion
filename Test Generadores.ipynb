{
 "cells": [
  {
   "cell_type": "markdown",
   "metadata": {},
   "source": [
    "# Números Aleatorios\n",
    "\n",
    "En la unidad anterior se describio como primer paso de los experimentos de simulación, la selección de una fuente de números aleatorios y la obtención de los mismos. Por lo tanto, disponer de un buen generador de números aleatorios es fundamental en Simulación. De hecho, constituye también una parte fundamental en otras áreas, como la Informática (algoritmos aleatorizados, verificación de algoritmos, complejidad de algoritmos, criptografía, ...), la Estadística (métodos de muestreo y remuestreo, contrastes Montecarlo, Inferencia Bayesiana, ...), y, en general, en cualquier problema de cálculo científico que, de manera directa o indirecta, incluya algún elemento probabilístico incluyendo los juegos de video."
   ]
  },
  {
   "cell_type": "markdown",
   "metadata": {},
   "source": [
    "## ¿Porqué estudiar generadores de números aleatorios?\n",
    "\n",
    "Actualmente existen multiples generadores de números aleatorios en diferentes entornos y compiladores lo cual supondría para un usuario de la Simulación que no es necesario su estudio. Sin embargo, estudios sobre algunos generadores comerciales sugieren que debemos actuar con cuidado con el uso de ellos. Incluso, el uso progresivo de modelos de simulación cada vez más detallados exige generadores de números aleatorios de mayor calidad."
   ]
  },
  {
   "cell_type": "markdown",
   "metadata": {},
   "source": [
    "##¿Cómo generar números aleatorios?"
   ]
  },
  {
   "cell_type": "markdown",
   "metadata": {},
   "source": [
    "## ¿Cómo determinar si un generador de numeros aleatorios es apropiado?\n",
    "\n",
    "##Pruebas o contrastes empíricos\n",
    "\n",
    "Normalmente, pasaremos un conjunto de pruebas cuando introduzcamos un nuevo generador, o cuando deseamos analizar si un generador del que desconozcamos su algoritmo subyacente es suficientemente bueno para nuestros propósitos.\n"
   ]
  },
  {
   "cell_type": "markdown",
   "metadata": {},
   "source": [
    "### Constraste o prueba de Kolmogorov-Smirnov\n",
    "\n",
    "Consideramos el caso en que $F_0$ es continua. La función de distribución empírica de una muestra $X_1, X_2,...,X_n$ se define como:\n",
    "\n",
    "$$F(x)=\\frac{\\#\\{X_{i}\\leq x\\}}{n}$$\n",
    "\n",
    "Bajo la hipótesis nula $H_0:F_X(x)=F_0(x)$, esperamos que $F_n$ se aproxime a $F_0$. Definimos el estadístico bilateral de Kolmogorov-Smirnov\n",
    "\n",
    "$$D_{n}=\\underset{x\\in\\mathbb{R}}{\\sup}\\left|F_{n}(x)-F_{0}(x)\\right|$$\n",
    "\n",
    "La distribución exacta de $D_n$ está tabulada para valores seleccionados de $n\\leq40$ y del nivel de significación $\\alpha$. Para muestras grandes, se utiliza la distribución asintótica de $D_n$, que viene dada, para todo $z\\leq0$, por\n",
    "\n",
    "$$\\underset{n\\rightarrow\\infty}{\\lim}P(\\sqrt{n}D_{n}\\leq z)=L(z)=1-2\\overset{\\infty}{\\underset{i=1}{\\sum}}(-1)^{i-1}e^{-2i^{2}z^{2}}$$\n",
    "\n",
    "$L(z)$ está tabulada y se comprueba que la aproximación es suficientemente buena para $n\\geq35$. Intuitivamente, esperamos que $D_n$ sea pequeño cuando la hipótesis nula es cierta.\n",
    "En nuestro caso particula de aleatoriedad, si $X_{(1)}<X_{(2)}<...<X_{(n)}$ designa al estadístico de orden, $F_0(x_{(i)})=x_{(i)}$, y como $F_n(x_{(i)})=i/n$, resulta:\n",
    "\n",
    "$$D_{n}=\\underset{i\\leq i\\leq n}{\\max}\\left\\{ \\max\\left[\\left|\\frac{i}{n}-x_{(i)}\\right|,\\left|x_{(i)}-\\frac{i-1}{n}\\right|\\right]\\right\\}$$\n",
    "\n",
    "\n",
    "\n",
    "<img src=\"imgs/300px-KS_Example.png\" width=\"30%\" height=\"30%\" >\n",
    "<center>Figura. Ilustración del estadístico de Kolmogorov–Smirnov (K–S). La línea roja es una función de distribución acumulada (cumulative distribution function, CDF), la línea azul es una función empirica de distribución acumulada (empirical cumulative distribution function, ECDF), y la línea negra es el estadístico K–S. Imagen tomada de Wikipedia [https://en.wikipedia.org/wiki/Kolmogorov%E2%80%93Smirnov_test]</center>\n",
    "\n",
    "\n",
    "##Ejemplo"
   ]
  },
  {
   "cell_type": "code",
   "execution_count": 2,
   "metadata": {
    "collapsed": true
   },
   "outputs": [],
   "source": [
    "%matplotlib inline \n",
    "\n",
    "import numpy as np\n",
    "import scipy as sp\n",
    "import matplotlib.pyplot as plt\n",
    "\n",
    "N = 1000"
   ]
  },
  {
   "cell_type": "code",
   "execution_count": 3,
   "metadata": {
    "collapsed": false,
    "scrolled": true
   },
   "outputs": [
    {
     "data": {
      "image/png": "[encoded data removed]",
      "text/plain": [
       "<matplotlib.figure.Figure at 0x3e01a58>"
      ]
     },
     "metadata": {},
     "output_type": "display_data"
    }
   ],
   "source": [
    "# Teoretical CDF for Uniform distribution F(x)\n",
    "u = [1.0] * N\n",
    "#print(u)\n",
    "# Gerate random numbers with Uniform distribution f(x)\n",
    "#np.random.seed(123456789)\n",
    "\n",
    "x= np.random.uniform(0,1,N)\n",
    "\n",
    "# Plot empirical distribution f(x)\n",
    "count, bins, ignored = plt.hist(x, 50, normed=True)\n",
    "plt.plot(bins, np.ones_like(bins), linewidth=2, color='r')\n",
    "plt.title(\"Generador Numpy\")\n",
    "plt.show()"
   ]
  },
  {
   "cell_type": "code",
   "execution_count": 4,
   "metadata": {
    "collapsed": false
   },
   "outputs": [
    {
     "data": {
      "image/png": "[encoded data removed]",
      "text/plain": [
       "<matplotlib.figure.Figure at 0xa4ff7f0>"
      ]
     },
     "metadata": {},
     "output_type": "display_data"
    }
   ],
   "source": [
    "def genale(N):\n",
    "    Ux=[]\n",
    "    x=0\n",
    "    x0=7\n",
    "    while x<N:\n",
    "        x0=((5*x0)+3)%607\n",
    "        x=x+1\n",
    "        Ux.append(float(x0)/607)\n",
    "    return Ux\n",
    "\n",
    "xg = genale(N)\n",
    "\n",
    "count, bins, ignored = plt.hist(xg, 50, normed=True)\n",
    "plt.plot(bins, np.ones_like(bins), linewidth=2, color='r')\n",
    "plt.title(\"Generador Genale\")\n",
    "plt.show()"
   ]
  },
  {
   "cell_type": "code",
   "execution_count": 5,
   "metadata": {
    "collapsed": false
   },
   "outputs": [
    {
     "data": {
      "image/png": "[encoded data removed]",
      "text/plain": [
       "<matplotlib.figure.Figure at 0xa96fb00>"
      ]
     },
     "metadata": {},
     "output_type": "display_data"
    }
   ],
   "source": [
    "def randu(N):\n",
    "    Ux=[]\n",
    "    x=0\n",
    "    x0=7\n",
    "    while x<N:\n",
    "        x0=((65539*x0))%(2**31)\n",
    "        x=x+1\n",
    "        Ux.append(float(x0)/(2**31))\n",
    "    return Ux\n",
    "\n",
    "xr = randu(N)\n",
    "\n",
    "count, bins, ignored = plt.hist(xr, 50, normed=True)\n",
    "plt.plot(bins, np.ones_like(bins), linewidth=2, color='r')\n",
    "plt.title(\"Generador Randu\")\n",
    "plt.show()"
   ]
  },
  {
   "cell_type": "code",
   "execution_count": 6,
   "metadata": {
    "collapsed": false
   },
   "outputs": [
    {
     "data": {
      "image/png": "[encoded data removed]",
      "text/plain": [
       "<matplotlib.figure.Figure at 0xb434e80>"
      ]
     },
     "metadata": {},
     "output_type": "display_data"
    }
   ],
   "source": [
    "def sinclair(N):\n",
    "    Ux=[]\n",
    "    x=0\n",
    "    x0=7\n",
    "    while x<N:\n",
    "        x0=((75*x0))%((2**16)+1)\n",
    "        x=x+1\n",
    "        Ux.append(float(x0)/((2**16)+1))\n",
    "    return Ux\n",
    "\n",
    "xs = sinclair(N)\n",
    "\n",
    "count, bins, ignored = plt.hist(xs, 50, normed=True)\n",
    "plt.plot(bins, np.ones_like(bins), linewidth=2, color='r')\n",
    "plt.title(\"Generador Sinclair\")\n",
    "plt.show()"
   ]
  },
  {
   "cell_type": "code",
   "execution_count": 13,
   "metadata": {
    "collapsed": false,
    "scrolled": true
   },
   "outputs": [
    {
     "data": {
      "image/png": "[encoded data removed]",
      "text/plain": [
       "<matplotlib.figure.Figure at 0xbc46518>"
      ]
     },
     "metadata": {},
     "output_type": "display_data"
    }
   ],
   "source": [
    "def reciepes(N):\n",
    "    Ux=[]\n",
    "    x=0\n",
    "    x0=7\n",
    "    while x<N:\n",
    "        x0=((1664525*x0)+1013904223)%(2**32)\n",
    "        x=x+1\n",
    "        Ux.append(float(x0)/(2**32))\n",
    "    return Ux\n",
    "\n",
    "xre = reciepes(N)\n",
    "\n",
    "count, bins, ignored = plt.hist(xre, 50, normed=True)\n",
    "plt.plot(bins, np.ones_like(bins), linewidth=2, color='r')\n",
    "plt.title(\"Generador reciepes\")\n",
    "plt.show()"
   ]
  },
  {
   "cell_type": "code",
   "execution_count": 14,
   "metadata": {
    "collapsed": false
   },
   "outputs": [
    {
     "data": {
      "image/png": "[encoded data removed]",
      "text/plain": [
       "<matplotlib.figure.Figure at 0xa8adb38>"
      ]
     },
     "metadata": {},
     "output_type": "display_data"
    }
   ],
   "source": [
    "def borland(N):\n",
    "    Ux=[]\n",
    "    x=0\n",
    "    x0=7\n",
    "    while x<N:\n",
    "        x0=((22695477*x0)+1)%(2**32)\n",
    "        x=x+1\n",
    "        Ux.append(float(x0)/(2**32))\n",
    "    return Ux\n",
    "\n",
    "xb = borland(N)\n",
    "\n",
    "count, bins, ignored = plt.hist(xb, 50, normed=True)\n",
    "plt.plot(bins, np.ones_like(bins), linewidth=2, color='r')\n",
    "plt.title(\"Generador borland\")\n",
    "plt.show()"
   ]
  },
  {
   "cell_type": "code",
   "execution_count": 20,
   "metadata": {
    "collapsed": false
   },
   "outputs": [
    {
     "name": "stdout",
     "output_type": "stream",
     "text": [
      "1000\n",
      "('De = ', 0.24997017361897017)\n"
     ]
    },
    {
     "data": {
      "image/png": "[encoded data removed]",
      "text/plain": [
       "<matplotlib.figure.Figure at 0xa968f98>"
      ]
     },
     "metadata": {},
     "output_type": "display_data"
    }
   ],
   "source": [
    "print(N)\n",
    "x1 = np.arange(float(1)/N,1+float(1)/N,float(1)/N)\n",
    "y1 = np.cumsum(np.sort(u)/np.max(np.cumsum(u)))\n",
    "\n",
    "x2 = np.sort(x)\n",
    "y2 = np.cumsum(np.sort(x)/np.max(np.cumsum(x)))\n",
    "\n",
    "De=np.absolute(y2-y1)\n",
    "#print(D)\n",
    "print(\"De = \",np.max(De))\n",
    "\n",
    "# Plotting\n",
    "plt.plot(x1,y1,label='Uniform')\n",
    "plt.step(x2,y2,label='Random')\n",
    "x3 = [x1[De.argmax()],x1[De.argmax()]]\n",
    "y3 = [np.min([y1[De.argmax()],y2[De.argmax()]]),np.max([y1[De.argmax()],y2[De.argmax()]])]\n",
    "plt.step(x3,y3,label='D')\n",
    "\n",
    "#plt.plot(x1,De,label='De')\n",
    "\n",
    "plt.legend()\n",
    "plt.xlabel('X')\n",
    "plt.ylabel('Cumulative Probability P(X)')\n",
    "plt.title('Numpy')\n",
    "#plt.xscale('log')\n",
    "#plt.yscale('log')\n",
    "\n",
    "#plt.xlim(0, np.max([np.max(whitney),np.max(redwell)])+0.05)\n",
    "plt.ylim(0, 1.05)\n",
    "\n",
    "plt.show()\n"
   ]
  },
  {
   "cell_type": "code",
   "execution_count": 33,
   "metadata": {
    "collapsed": false
   },
   "outputs": [
    {
     "name": "stdout",
     "output_type": "stream",
     "text": [
      "('D = ', 0.2493469353094348)\n",
      "('p-value = ', 0.0)\n"
     ]
    }
   ],
   "source": [
    "# scipy function for K-S test\n",
    "from scipy import stats\n",
    "D,pvalue = stats.kstest(y2, 'uniform')\n",
    "print(\"D = \", D)\n",
    "print(\"p-value = \", pvalue)\n"
   ]
  },
  {
   "cell_type": "code",
   "execution_count": 34,
   "metadata": {
    "collapsed": false
   },
   "outputs": [
    {
     "name": "stdout",
     "output_type": "stream",
     "text": [
      "50000\n",
      "('De = ', 0.25010799757157531)\n"
     ]
    },
    {
     "data": {
      "image/png": "[encoded data removed]",
      "text/plain": [
       "<matplotlib.figure.Figure at 0xb55c2e8>"
      ]
     },
     "metadata": {},
     "output_type": "display_data"
    }
   ],
   "source": [
    "print(N)\n",
    "x1 = np.arange(float(1)/N,1+float(1)/N,float(1)/N)\n",
    "y1 = np.cumsum(np.sort(u)/np.max(np.cumsum(u)))\n",
    "\n",
    "x2 = np.sort(xg)\n",
    "y2 = np.cumsum(np.sort(xg)/np.max(np.cumsum(xg)))\n",
    "\n",
    "De=np.absolute(y2-y1)\n",
    "#print(D)\n",
    "print(\"De = \",np.max(De))\n",
    "\n",
    "# Plotting\n",
    "plt.plot(x1,y1,label='Uniform')\n",
    "plt.step(x2,y2,label='Random')\n",
    "x3 = [x1[De.argmax()],x1[De.argmax()]]\n",
    "y3 = [np.min([y1[De.argmax()],y2[De.argmax()]]),np.max([y1[De.argmax()],y2[De.argmax()]])]\n",
    "plt.step(x3,y3,label='D')\n",
    "\n",
    "#plt.plot(x1,De,label='De')\n",
    "\n",
    "plt.legend()\n",
    "plt.xlabel('X')\n",
    "plt.ylabel('Cumulative Probability P(X)')\n",
    "plt.title('Genale')\n",
    "#plt.xscale('log')\n",
    "#plt.yscale('log')\n",
    "\n",
    "#plt.xlim(0, np.max([np.max(whitney),np.max(redwell)])+0.05)\n",
    "plt.ylim(0, 1.05)\n",
    "\n",
    "plt.show()"
   ]
  },
  {
   "cell_type": "code",
   "execution_count": 35,
   "metadata": {
    "collapsed": false
   },
   "outputs": [
    {
     "name": "stdout",
     "output_type": "stream",
     "text": [
      "('D = ', 0.25010799757135682)\n",
      "('p-value = ', 0.0)\n"
     ]
    }
   ],
   "source": [
    "# scipy function for K-S test\n",
    "from scipy import stats\n",
    "D,pvalue = stats.kstest(y2, 'uniform')\n",
    "print(\"D = \", D)\n",
    "print(\"p-value = \", pvalue)\n"
   ]
  },
  {
   "cell_type": "code",
   "execution_count": 36,
   "metadata": {
    "collapsed": false
   },
   "outputs": [
    {
     "name": "stdout",
     "output_type": "stream",
     "text": [
      "50000\n",
      "('De = ', 0.25105628472489616)\n"
     ]
    },
    {
     "data": {
      "image/png": "[encoded data removed]",
      "text/plain": [
       "<matplotlib.figure.Figure at 0xa7a4828>"
      ]
     },
     "metadata": {},
     "output_type": "display_data"
    }
   ],
   "source": [
    "print(N)\n",
    "x1 = np.arange(float(1)/N,1+float(1)/N,float(1)/N)\n",
    "y1 = np.cumsum(np.sort(u)/np.max(np.cumsum(u)))\n",
    "\n",
    "x2 = np.sort(xr)\n",
    "y2 = np.cumsum(np.sort(xr)/np.max(np.cumsum(xr)))\n",
    "\n",
    "De=np.absolute(y2-y1)\n",
    "#print(D)\n",
    "print(\"De = \",np.max(De))\n",
    "\n",
    "# Plotting\n",
    "plt.plot(x1,y1,label='Uniform')\n",
    "plt.step(x2,y2,label='Random')\n",
    "x3 = [x1[De.argmax()],x1[De.argmax()]]\n",
    "y3 = [np.min([y1[De.argmax()],y2[De.argmax()]]),np.max([y1[De.argmax()],y2[De.argmax()]])]\n",
    "plt.step(x3,y3,label='D')\n",
    "\n",
    "#plt.plot(x1,De,label='De')\n",
    "\n",
    "plt.legend()\n",
    "plt.xlabel('X')\n",
    "plt.ylabel('Cumulative Probability P(X)')\n",
    "plt.title('Randu')\n",
    "#plt.xscale('log')\n",
    "#plt.yscale('log')\n",
    "\n",
    "#plt.xlim(0, np.max([np.max(whitney),np.max(redwell)])+0.05)\n",
    "plt.ylim(0, 1.05)\n",
    "\n",
    "plt.show()"
   ]
  },
  {
   "cell_type": "code",
   "execution_count": 37,
   "metadata": {
    "collapsed": false
   },
   "outputs": [
    {
     "name": "stdout",
     "output_type": "stream",
     "text": [
      "('D = ', 0.25105628472467767)\n",
      "('p-value = ', 0.0)\n"
     ]
    }
   ],
   "source": [
    "# scipy function for K-S test\n",
    "from scipy import stats\n",
    "D,pvalue = stats.kstest(y2, 'uniform')\n",
    "print(\"D = \", D)\n",
    "print(\"p-value = \", pvalue)\n"
   ]
  },
  {
   "cell_type": "code",
   "execution_count": 38,
   "metadata": {
    "collapsed": false
   },
   "outputs": [
    {
     "name": "stdout",
     "output_type": "stream",
     "text": [
      "50000\n",
      "('De = ', 0.24985462626170368)\n"
     ]
    },
    {
     "data": {
      "image/png": "[encoded data removed]",
      "text/plain": [
       "<matplotlib.figure.Figure at 0x16ef74a8>"
      ]
     },
     "metadata": {},
     "output_type": "display_data"
    }
   ],
   "source": [
    "print(N)\n",
    "x1 = np.arange(float(1)/N,1+float(1)/N,float(1)/N)\n",
    "y1 = np.cumsum(np.sort(u)/np.max(np.cumsum(u)))\n",
    "\n",
    "x2 = np.sort(xs)\n",
    "y2 = np.cumsum(np.sort(xs)/np.max(np.cumsum(xs)))\n",
    "\n",
    "De=np.absolute(y2-y1)\n",
    "#print(D)\n",
    "print(\"De = \",np.max(De))\n",
    "\n",
    "# Plotting\n",
    "plt.plot(x1,y1,label='Uniform')\n",
    "plt.step(x2,y2,label='Random')\n",
    "x3 = [x1[De.argmax()],x1[De.argmax()]]\n",
    "y3 = [np.min([y1[De.argmax()],y2[De.argmax()]]),np.max([y1[De.argmax()],y2[De.argmax()]])]\n",
    "plt.step(x3,y3,label='D')\n",
    "\n",
    "#plt.plot(x1,De,label='De')\n",
    "\n",
    "plt.legend()\n",
    "plt.xlabel('X')\n",
    "plt.ylabel('Cumulative Probability P(X)')\n",
    "plt.title('Sinclair')\n",
    "#plt.xscale('log')\n",
    "#plt.yscale('log')\n",
    "\n",
    "#plt.xlim(0, np.max([np.max(whitney),np.max(redwell)])+0.05)\n",
    "plt.ylim(0, 1.05)\n",
    "\n",
    "plt.show()"
   ]
  },
  {
   "cell_type": "code",
   "execution_count": 39,
   "metadata": {
    "collapsed": false
   },
   "outputs": [
    {
     "name": "stdout",
     "output_type": "stream",
     "text": [
      "('D = ', 0.24985462626148508)\n",
      "('p-value = ', 0.0)\n"
     ]
    }
   ],
   "source": [
    "# scipy function for K-S test\n",
    "from scipy import stats\n",
    "D,pvalue = stats.kstest(y2, 'uniform')\n",
    "print(\"D = \", D)\n",
    "print(\"p-value = \", pvalue)\n"
   ]
  },
  {
   "cell_type": "code",
   "execution_count": 17,
   "metadata": {
    "collapsed": false
   },
   "outputs": [
    {
     "name": "stdout",
     "output_type": "stream",
     "text": [
      "1000\n",
      "('De = ', 0.25984110278337302)\n"
     ]
    },
    {
     "data": {
      "image/png": "[encoded data removed]",
      "text/plain": [
       "<matplotlib.figure.Figure at 0xa4ef8d0>"
      ]
     },
     "metadata": {},
     "output_type": "display_data"
    }
   ],
   "source": [
    "print(N)\n",
    "x1 = np.arange(float(1)/N,1+float(1)/N,float(1)/N)\n",
    "y1 = np.cumsum(np.sort(u)/np.max(np.cumsum(u)))\n",
    "\n",
    "x2 = np.sort(xre)\n",
    "y2 = np.cumsum(np.sort(xre)/np.max(np.cumsum(xre)))\n",
    "\n",
    "De=np.absolute(y2-y1)\n",
    "#print(D)\n",
    "print(\"De = \",np.max(De))\n",
    "\n",
    "# Plotting\n",
    "plt.plot(x1,y1,label='Uniform')\n",
    "plt.step(x2,y2,label='Random')\n",
    "x3 = [x1[De.argmax()],x1[De.argmax()]]\n",
    "y3 = [np.min([y1[De.argmax()],y2[De.argmax()]]),np.max([y1[De.argmax()],y2[De.argmax()]])]\n",
    "plt.step(x3,y3,label='D')\n",
    "\n",
    "#plt.plot(x1,De,label='De')\n",
    "\n",
    "plt.legend()\n",
    "plt.xlabel('X')\n",
    "plt.ylabel('Cumulative Probability P(X)')\n",
    "plt.title('Reciepes')\n",
    "#plt.xscale('log')\n",
    "#plt.yscale('log')\n",
    "\n",
    "#plt.xlim(0, np.max([np.max(whitney),np.max(redwell)])+0.05)\n",
    "plt.ylim(0, 1.05)\n",
    "\n",
    "plt.show()"
   ]
  },
  {
   "cell_type": "code",
   "execution_count": 18,
   "metadata": {
    "collapsed": false
   },
   "outputs": [
    {
     "name": "stdout",
     "output_type": "stream",
     "text": [
      "('D = ', 0.25984110278337269)\n",
      "('p-value = ', 0.0)\n"
     ]
    }
   ],
   "source": [
    "# scipy function for K-S test\n",
    "from scipy import stats\n",
    "D,pvalue = stats.kstest(y2, 'uniform')\n",
    "print(\"D = \", D)\n",
    "print(\"p-value = \", pvalue)\n"
   ]
  },
  {
   "cell_type": "code",
   "execution_count": 16,
   "metadata": {
    "collapsed": false
   },
   "outputs": [
    {
     "name": "stdout",
     "output_type": "stream",
     "text": [
      "1000\n",
      "('De = ', 0.27368606413048446)\n"
     ]
    },
    {
     "data": {
      "image/png": "[encoded data removed]",
      "text/plain": [
       "<matplotlib.figure.Figure at 0xb40b978>"
      ]
     },
     "metadata": {},
     "output_type": "display_data"
    }
   ],
   "source": [
    "print(N)\n",
    "x1 = np.arange(float(1)/N,1+float(1)/N,float(1)/N)\n",
    "y1 = np.cumsum(np.sort(u)/np.max(np.cumsum(u)))\n",
    "\n",
    "x2 = np.sort(xb)\n",
    "y2 = np.cumsum(np.sort(xb)/np.max(np.cumsum(xb)))\n",
    "\n",
    "De=np.absolute(y2-y1)\n",
    "#print(D)\n",
    "print(\"De = \",np.max(De))\n",
    "\n",
    "# Plotting\n",
    "plt.plot(x1,y1,label='Uniform')\n",
    "plt.step(x2,y2,label='Random')\n",
    "x3 = [x1[De.argmax()],x1[De.argmax()]]\n",
    "y3 = [np.min([y1[De.argmax()],y2[De.argmax()]]),np.max([y1[De.argmax()],y2[De.argmax()]])]\n",
    "plt.step(x3,y3,label='D')\n",
    "\n",
    "#plt.plot(x1,De,label='De')\n",
    "\n",
    "plt.legend()\n",
    "plt.xlabel('X')\n",
    "plt.ylabel('Cumulative Probability P(X)')\n",
    "plt.title('Borland')\n",
    "#plt.xscale('log')\n",
    "#plt.yscale('log')\n",
    "\n",
    "#plt.xlim(0, np.max([np.max(whitney),np.max(redwell)])+0.05)\n",
    "plt.ylim(0, 1.05)\n",
    "\n",
    "plt.show()"
   ]
  },
  {
   "cell_type": "code",
   "execution_count": 19,
   "metadata": {
    "collapsed": false
   },
   "outputs": [
    {
     "name": "stdout",
     "output_type": "stream",
     "text": [
      "('D = ', 0.25984110278337269)\n",
      "('p-value = ', 0.0)\n"
     ]
    }
   ],
   "source": [
    "# scipy function for K-S test\n",
    "from scipy import stats\n",
    "D,pvalue = stats.kstest(y2, 'uniform')\n",
    "print(\"D = \", D)\n",
    "print(\"p-value = \", pvalue)\n"
   ]
  },
  {
   "cell_type": "markdown",
   "metadata": {},
   "source": [
    "### Contraste o prueba  $\\chi^{2}$\n",
    "\n",
    "La prueba $\\chi^{2}$ es de bondad de ajuste. Es poco potente, por lo que permite justificar el rechazo de una hipótesis, pero proporciona escaso soporte a su aceptación. El problema de bondad de ajuste se plantea como sigue. Tenemos una muestra $X_1, X_2,...,X_n$ de una población con distribución $F_X(x)$ desconocida. Deseamos contrastar la hipótesis nula $H_0:F_X(x)=F_0(x)$, para todo $x\\in\\mathbb{R}$, donde $F_0(x)$ está completamente especificada, frente a la alternativa $H_1:F_X(x) \\neq F_0(x)$ para algún $x$.\n",
    "Para realizar el contraste, partimos el soporte de $X$ en $k$ subconjuntos o clases mutuamente excluyentes. Para cada subconjunto $i$, $i=1,...,k$, calculamos el número $f_i$ de observaciones que caen en la clase y el numero esperado de observaciones $e_i$ bajo la distribución hipotética $F_0$. El estadístico de la prueba es:\n",
    "\n",
    "$$\\chi^{2}=\\overset{k}{\\underset{i=1}{\\sum}}\\frac{(f_{i}-e_{i})^{2}}{e_{i}}$$\n",
    "\n",
    "cuya distribución asintótica es una $\\chi_{k-r-1}^{2}$, donde $r$ es el número de parámetros que se estiman a partir de las observaciones. La aproximación se considera aceptada si $\\min\\left\\{ e_{i}>5\\right\\}$. Intuitivamente, el estadístico tiende a ser pequeño bajo la hipótesis nula, y grande cuando ésta es falsa, con lo qu ese deduce inmediatamente un contraste de hipótesis. La potencia del contraste crece con el número $k$ de subconjuntos considerados.\n",
    "\n",
    "En nuestro problema de aleatoriedad, $F_0$ es la función de distribución de la uniforme en [0,1], con lo que $r=0$. Además, pueden cogerse $k$ subintervalos de [0,1] de igual longitud, con lo que $e_i=n/k$.\n"
   ]
  },
  {
   "cell_type": "code",
   "execution_count": 27,
   "metadata": {
    "collapsed": false
   },
   "outputs": [
    {
     "name": "stdout",
     "output_type": "stream",
     "text": [
      "Numpy\n",
      "Cantidad de datos en cada intervalo\n",
      "[103, 92, 97, 103, 102, 98, 98, 97, 100, 110]\n",
      "T=2.12\n"
     ]
    }
   ],
   "source": [
    "k=10\n",
    "c=1/float(10)\n",
    "ei=N/k\n",
    "inter=[]\n",
    "inter.append(c)\n",
    "for i in range(9):\n",
    "    inter.append(inter[i]+c)\n",
    "\n",
    "cinter=[]\n",
    "for i in range(10):\n",
    "    cinter.append(0)\n",
    "    \n",
    "for i in range(N):\n",
    "    for j in range(10):\n",
    "        if x[i]<inter[j]:\n",
    "            cinter[j]=cinter[j]+1\n",
    "            break\n",
    "\n",
    "print \"Numpy\"  \n",
    "print \"Cantidad de datos en cada intervalo\" \n",
    "print cinter\n",
    "\n",
    "T=0\n",
    "for i in range(k):\n",
    "    T=T+((cinter[i]-ei)**2/float(ei))\n",
    "    \n",
    "print \"T=\"+str(T)\n"
   ]
  },
  {
   "cell_type": "code",
   "execution_count": 28,
   "metadata": {
    "collapsed": false
   },
   "outputs": [
    {
     "name": "stdout",
     "output_type": "stream",
     "text": [
      "Numpy\n",
      "Cantidad de datos en cada intervalo\n",
      "[92, 102, 98, 97, 106, 103, 102, 105, 97, 98]\n",
      "T=1.68\n"
     ]
    }
   ],
   "source": [
    "k=10\n",
    "c=1/float(10)\n",
    "ei=N/k\n",
    "inter=[]\n",
    "inter.append(c)\n",
    "for i in range(9):\n",
    "    inter.append(inter[i]+c)\n",
    "\n",
    "cinter=[]\n",
    "for i in range(10):\n",
    "    cinter.append(0)\n",
    "    \n",
    "for i in range(N):\n",
    "    for j in range(10):\n",
    "        if xg[i]<inter[j]:\n",
    "            cinter[j]=cinter[j]+1\n",
    "            break\n",
    "\n",
    "print \"Genale\"  \n",
    "print \"Cantidad de datos en cada intervalo\" \n",
    "print cinter\n",
    "\n",
    "T=0\n",
    "for i in range(k):\n",
    "    T=T+((cinter[i]-ei)**2/float(ei))\n",
    "    \n",
    "print \"T=\"+str(T)"
   ]
  },
  {
   "cell_type": "code",
   "execution_count": 33,
   "metadata": {
    "collapsed": false
   },
   "outputs": [
    {
     "name": "stdout",
     "output_type": "stream",
     "text": [
      "Randu\n",
      "Cantidad de datos en cada intervalo\n",
      "[99, 117, 113, 89, 131, 87, 82, 86, 98, 98]\n",
      "T=22.38\n"
     ]
    }
   ],
   "source": [
    "k=10\n",
    "c=1/float(10)\n",
    "ei=N/k\n",
    "inter=[]\n",
    "inter.append(c)\n",
    "for i in range(9):\n",
    "    inter.append(inter[i]+c)\n",
    "\n",
    "cinter=[]\n",
    "for i in range(10):\n",
    "    cinter.append(0)\n",
    "    \n",
    "for i in range(N):\n",
    "    for j in range(10):\n",
    "        if xr[i]<inter[j]:\n",
    "            cinter[j]=cinter[j]+1\n",
    "            break\n",
    "\n",
    "print \"Randu\"  \n",
    "print \"Cantidad de datos en cada intervalo\" \n",
    "print cinter\n",
    "\n",
    "T=0\n",
    "for i in range(k):\n",
    "    T=T+((cinter[i]-ei)**2/float(ei))\n",
    "    \n",
    "print \"T=\"+str(T)"
   ]
  },
  {
   "cell_type": "code",
   "execution_count": 34,
   "metadata": {
    "collapsed": false
   },
   "outputs": [
    {
     "name": "stdout",
     "output_type": "stream",
     "text": [
      "Sinclair\n",
      "Cantidad de datos en cada intervalo\n",
      "[102, 118, 98, 105, 96, 89, 97, 94, 99, 102]\n",
      "T=5.44\n"
     ]
    }
   ],
   "source": [
    "k=10\n",
    "c=1/float(10)\n",
    "ei=N/k\n",
    "inter=[]\n",
    "inter.append(c)\n",
    "for i in range(9):\n",
    "    inter.append(inter[i]+c)\n",
    "\n",
    "cinter=[]\n",
    "for i in range(10):\n",
    "    cinter.append(0)\n",
    "    \n",
    "for i in range(N):\n",
    "    for j in range(10):\n",
    "        if xs[i]<inter[j]:\n",
    "            cinter[j]=cinter[j]+1\n",
    "            break\n",
    "\n",
    "print \"Sinclair\"  \n",
    "print \"Cantidad de datos en cada intervalo\" \n",
    "print cinter\n",
    "\n",
    "T=0\n",
    "for i in range(k):\n",
    "    T=T+((cinter[i]-ei)**2/float(ei))\n",
    "    \n",
    "print \"T=\"+str(T)"
   ]
  },
  {
   "cell_type": "code",
   "execution_count": 35,
   "metadata": {
    "collapsed": false
   },
   "outputs": [
    {
     "name": "stdout",
     "output_type": "stream",
     "text": [
      "Reciepes\n",
      "Cantidad de datos en cada intervalo\n",
      "[102, 118, 98, 105, 96, 89, 97, 94, 99, 102]\n",
      "T=5.44\n"
     ]
    }
   ],
   "source": [
    "k=10\n",
    "c=1/float(10)\n",
    "ei=N/k\n",
    "inter=[]\n",
    "inter.append(c)\n",
    "for i in range(9):\n",
    "    inter.append(inter[i]+c)\n",
    "\n",
    "cinter=[]\n",
    "for i in range(10):\n",
    "    cinter.append(0)\n",
    "    \n",
    "for i in range(N):\n",
    "    for j in range(10):\n",
    "        if xre[i]<inter[j]:\n",
    "            cinter[j]=cinter[j]+1\n",
    "            break\n",
    "\n",
    "print \"Reciepes\"  \n",
    "print \"Cantidad de datos en cada intervalo\" \n",
    "print cinter\n",
    "\n",
    "T=0\n",
    "for i in range(k):\n",
    "    T=T+((cinter[i]-ei)**2/float(ei))\n",
    "    \n",
    "print \"T=\"+str(T)"
   ]
  },
  {
   "cell_type": "code",
   "execution_count": 36,
   "metadata": {
    "collapsed": false
   },
   "outputs": [
    {
     "name": "stdout",
     "output_type": "stream",
     "text": [
      "Borland\n",
      "Cantidad de datos en cada intervalo\n",
      "[130, 116, 95, 90, 97, 85, 89, 88, 113, 97]\n",
      "T=19.58\n"
     ]
    }
   ],
   "source": [
    "k=10\n",
    "c=1/float(10)\n",
    "ei=N/k\n",
    "inter=[]\n",
    "inter.append(c)\n",
    "for i in range(9):\n",
    "    inter.append(inter[i]+c)\n",
    "\n",
    "cinter=[]\n",
    "for i in range(10):\n",
    "    cinter.append(0)\n",
    "    \n",
    "for i in range(N):\n",
    "    for j in range(10):\n",
    "        if xb[i]<inter[j]:\n",
    "            cinter[j]=cinter[j]+1\n",
    "            break\n",
    "\n",
    "print \"Borland\"  \n",
    "print \"Cantidad de datos en cada intervalo\" \n",
    "print cinter\n",
    "\n",
    "T=0\n",
    "for i in range(k):\n",
    "    T=T+((cinter[i]-ei)**2/float(ei))\n",
    "    \n",
    "print \"T=\"+str(T)"
   ]
  },
  {
   "cell_type": "markdown",
   "metadata": {},
   "source": [
    "### Constraste o prueba de rachas\n",
    "\n",
    "Dada la sucesión de observaciones $X_1, X_2,...,X_n$, construimos la sucesión de simbolos binarios definida mediante 1 si $X_i<X_{i+1}$, 0 si $X_i>X_{i+1}$. Definimos  racha creciente (decreciente) de longitud $l$ a un grupo seguido de $l$ números 1 (ó 0). Contabilizamos el número de rachas. Sabemos que su distribución asintótica, bajo la hipótesis nula de aleatoriedad, es:\n",
    "\n",
    "$$N\\left(\\frac{2n-1}{3},\\frac{16n-29}{90}\\right)$$\n",
    "\n",
    "Intuitivamente, rechazamos la aleatoriedad con un número muy pequeño o muy grande de rachas. De ahí se obtiene inmediatamente la prueba.\n",
    "\n",
    "###Contraste de rachas por encima y por debajo de la mediana\n",
    "\n",
    "Otro procedimiento para definir rachas se tiene del recuento de observaciones que se sitúan a un mismo lado de la mediana. La distribución asintótica del número de rachas, bajo la hipótesis de aleatoriedad, es:\n",
    "\n",
    "$$N\\left(1+\\frac{n}{2},\\frac{n}{2}\\right)$$\n",
    "\n",
    "de donde se sigue, inmediatamente una prueba."
   ]
  },
  {
   "cell_type": "markdown",
   "metadata": {},
   "source": [
    "###Contraste o prueba de permutaciones\n",
    "\n",
    "Separamos las observaciones en $k$-uplas:\n",
    "\n",
    "$$(U_1,U_2,...,U_k),...,(U_{ik+1},U_{ik+2},...,U_{(i+1)k}),...$$\n",
    "\n",
    "La $k$-upla general se escribe:\n",
    "\n",
    "$$(U_{ik+j})_{j=1}^k$$\n",
    "\n",
    "La ordenamos crecientemente y consideramos la ordenación correspondiente de los subíndices $j$. Bajo la hipótesis de que la probabilidad de que dos números sean iguales es nula, hay $k!$ ordenaciones posibles. Bajo la hipótesis de independencia, todas las permutaciones son equiprobables, con probabilidad $1/k!$. Entonces es inmediato aplicar una prueba $\\chi^2$ con $k!$ clases, distribución asintótica $\\chi_{k!-1}^2$, frecuencias esperadas $r/k!$, onde $r$ es el número de $k$-uplas y frecuencias observadas el número de veces que aparece cada ordenación."
   ]
  },
  {
   "cell_type": "markdown",
   "metadata": {},
   "source": [
    "### Contraste o prueba de huecos\n",
    "\n",
    "Fijamos dos valores $\\alpha$ y $\\beta$ con $0<\\alpha<\\beta<1$. La sucesión presenta un hueco de longitud $m$ si $U_j, U_{j+m}\\in\\left[\\alpha,\\beta\\right]$ pero $U_{j+1},...,U_{j+m+1}\\notin\\left[\\alpha,\\beta\\right]$. Bajo la hipótesis de aleatoriedad de la serie, la longitud $m$ de los huecos sigue una distribución geométrica de parámetro $P(\\alpha\\leq X_{j}\\leq\\beta)=\\beta-\\alpha=\\rho$, es decir:\n",
    "\n",
    "$$P(hueco\\: longitud\\: m)=\\rho(1-\\rho)^{m-1}$$.\n",
    "\n",
    "La hipótesis de aleatoriedad implica independencia de las longitudes de los huecos y podemos aplicar una prueba $\\chi^2$ basado en las comparacioens de los números observados y esperados de huecos de longitud $m$."
   ]
  },
  {
   "cell_type": "markdown",
   "metadata": {},
   "source": [
    "###Repetición de contrastes o pruebas\n",
    "\n",
    "Para aumentar su potencia, los contrastes anteriores pueden repetirse $N$ veces. La distribución empírica de los valores del estadístico pueden compararse con su distribución teórica mediante, por ejemplo, el contraste de Kolmogorov-Smirnov."
   ]
  },
  {
   "cell_type": "markdown",
   "metadata": {},
   "source": [
    "#T3: Taller 3. Ejercicios\n",
    "* Tomando como base éste Notebook, implementar los contrastes o pruebas de Kolmogorov-Smirnov, $\\chi^2$, rachas, permutaciones y huecos en la sección correspondiente para evaluar la calidad de cualquier secuencia de números obtenidas por un generador de números aleatorios $U(0,1)$ utilizando tanto el generador de numpy como el implementado por Ud previamente.\n",
    "* Evaluar la calidad de los siguientes generadores de números aleatorios usando las pruebas implementadas en el punto anterior:\n",
    "    * RANDU $x_{i+1}=65539 x_i \\mod 2^31$\n",
    "    * Sinclair ZX81 $x_{i+1}=75 x_i \\mod (2^{16}+1)$\n",
    "    * Numerical reciepes $x_{i+1}= 1664525 x_i + 1013904223 \\mod 2^{32}$\n",
    "    * Borland C/C++ $x_{i+1}= 22695477 x_i + 1 \\mod 2^{32}$\n",
    "* Elabore un reporte en $\\LaTeX$ con formato de artículo científico usando OverLeaf (URL: https://www.overleaf.com/) describiendo la teoría principal, la metodología usada, presentando los resultados (incluyendo graficas), realizando un análisis y discusión de los resultados, finalizando con las principales conclusiones."
   ]
  },
  {
   "cell_type": "markdown",
   "metadata": {},
   "source": [
    "#Referencias\n",
    "\n",
    "[Ríos, Ríos & Martín, 2000] David Ríos, Sixto Ríos, Jacinto Martín. Simulación, Métodos y aplicaciones. Editorial Alfaomega, 2000."
   ]
  }
 ],
 "metadata": {
  "kernelspec": {
   "display_name": "Python 2",
   "language": "python",
   "name": "python2"
  },
  "language_info": {
   "codemirror_mode": {
    "name": "ipython",
    "version": 2
   },
   "file_extension": ".py",
   "mimetype": "text/x-python",
   "name": "python",
   "nbconvert_exporter": "python",
   "pygments_lexer": "ipython2",
   "version": "2.7.10"
  }
 },
 "nbformat": 4,
 "nbformat_minor": 0
}
