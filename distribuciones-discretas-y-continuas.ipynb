{
 "cells": [
  {
   "cell_type": "markdown",
   "metadata": {},
   "source": [
    "#Metodo de la Inversion\n",
    "## Distribuciones Discretas\n",
    "### Distribucion Binomial\n",
    "\n",
    "####Funcion de Probabilidad\n",
    "$$F(x)=\\frac{n!}{x!(n-x)!}p^x(1-p)^{n-x}$$"
   ]
  },
  {
   "cell_type": "code",
   "execution_count": 48,
   "metadata": {
    "collapsed": false
   },
   "outputs": [
    {
     "data": {
      "text/plain": [
       "[<matplotlib.lines.Line2D at 0x143bdb38>]"
      ]
     },
     "execution_count": 48,
     "metadata": {},
     "output_type": "execute_result"
    },
    {
     "data": {
      "image/png": "[encoded data removed]",
      "text/plain": [
       "<matplotlib.figure.Figure at 0x3e630f0>"
      ]
     },
     "metadata": {},
     "output_type": "display_data"
    }
   ],
   "source": [
    "%matplotlib inline \n",
    "\n",
    "import numpy as np\n",
    "import scipy as sp\n",
    "import matplotlib.pyplot as plt\n",
    "import math\n",
    "from scipy.integrate import quad\n",
    "\n",
    "x=10\n",
    "s1=17\n",
    "s2=27\n",
    "def genale(x):\n",
    "    x0=x*10\n",
    "    x0=((75*x0))%((2**16)+1)\n",
    "    Ux=float(x0)/((2**16)+1)\n",
    "    return Ux\n",
    "\n",
    "def genalev(N):\n",
    "    Ux=[]\n",
    "    x=0\n",
    "    x0=7\n",
    "    while x<N:\n",
    "        x0=((5*x0)+3)%607\n",
    "        x=x+1\n",
    "        Ux.append(float(x0)/607)\n",
    "    return Ux\n",
    "\n",
    "p=genale(s1)\n",
    "\n",
    "#funcion de probabilidad binomial\n",
    "def funprobbin(x,p):\n",
    "    y=[]\n",
    "    for i in range(x):\n",
    "        y.append((math.factorial(x)/(math.factorial(i)*math.factorial(x-i)))*(p**i)*(1-p)**(x-i))\n",
    "    return y\n",
    "\n",
    "fpb=funprobbin(x,p)\n",
    "#funcion acumulada binomial\n",
    "def funacumbin():\n",
    "    y=[]\n",
    "    y.append(fpb[0])\n",
    "    for i in range(x-1):\n",
    "        y.append(fpb[i+1]+y[i])\n",
    "    return y\n",
    "\n",
    "fab=funacumbin()\n",
    "\n",
    "plt.plot(fab)"
   ]
  },
  {
   "cell_type": "code",
   "execution_count": 49,
   "metadata": {
    "collapsed": false
   },
   "outputs": [
    {
     "name": "stdout",
     "output_type": "stream",
     "text": [
      "[0, 1, 2, 5, 4, 2, 2, 1, 4, 2]\n"
     ]
    }
   ],
   "source": [
    "#funcion inversa binomial\n",
    "def finbin(x):\n",
    "    p=[]\n",
    "    p=genalev(x)\n",
    "    pi=[]\n",
    "    for i in range(x):\n",
    "        for j in range(len(fab)):\n",
    "            if p[i]<fab[j]:\n",
    "                pi.append(j)\n",
    "                break\n",
    "    return pi      \n",
    "\n",
    "finb=finbin(x)\n",
    "print finb\n"
   ]
  },
  {
   "cell_type": "markdown",
   "metadata": {
    "collapsed": false
   },
   "source": [
    "### Distribucion Geometrica\n",
    "\n",
    "####Funcion de Probabilidad\n",
    "$$F(x)=p(1-p)^{x-1}$$"
   ]
  },
  {
   "cell_type": "code",
   "execution_count": 50,
   "metadata": {
    "collapsed": false
   },
   "outputs": [
    {
     "data": {
      "text/plain": [
       "[<matplotlib.lines.Line2D at 0x145ea080>]"
      ]
     },
     "execution_count": 50,
     "metadata": {},
     "output_type": "execute_result"
    },
    {
     "data": {
      "image/png": "[encoded data removed]",
      "text/plain": [
       "<matplotlib.figure.Figure at 0xacbc400>"
      ]
     },
     "metadata": {},
     "output_type": "display_data"
    }
   ],
   "source": [
    "p=genale(s2)\n",
    "def funprobgeo(x,p):\n",
    "    y=[]\n",
    "    for i in range(x+1):\n",
    "        y.append(p*(1-p)**(i))\n",
    "    return y\n",
    "\n",
    "fpg=funprobgeo(x,p)\n",
    "\n",
    "def funacumgeo():\n",
    "    y=[]\n",
    "    y.append(fpg[0])\n",
    "    for i in range(x-1):\n",
    "        y.append(fpg[i+1]+y[i])\n",
    "    return y\n",
    "\n",
    "fag=funacumgeo()\n",
    "\n",
    "\n",
    "plt.plot(fag)"
   ]
  },
  {
   "cell_type": "code",
   "execution_count": 51,
   "metadata": {
    "collapsed": false
   },
   "outputs": [
    {
     "name": "stdout",
     "output_type": "stream",
     "text": [
      "[0, 1, 2, 6, 1, 1, 1, 7, 2]\n"
     ]
    }
   ],
   "source": [
    "#funcion inversa binomial\n",
    "def fingeo(x):\n",
    "    p=[]\n",
    "    p=genalev(x)\n",
    "    pi=[]\n",
    "    for i in range(x):\n",
    "        for j in range(len(fag)):\n",
    "            if p[i]<fag[j]:\n",
    "                pi.append(j)\n",
    "                break\n",
    "    return pi      \n",
    "\n",
    "fing=fingeo(x)\n",
    "print fing"
   ]
  },
  {
   "cell_type": "markdown",
   "metadata": {
    "collapsed": true
   },
   "source": [
    "### Distribucion Uniforme Discreta\n",
    "\n",
    "####Funcion de Probabilidad\n",
    "$$F(x)=\\frac{1}{x}$$"
   ]
  },
  {
   "cell_type": "code",
   "execution_count": 52,
   "metadata": {
    "collapsed": false
   },
   "outputs": [
    {
     "data": {
      "text/plain": [
       "[<matplotlib.lines.Line2D at 0x14847860>]"
      ]
     },
     "execution_count": 52,
     "metadata": {},
     "output_type": "execute_result"
    },
    {
     "data": {
      "image/png": "[encoded data removed]",
      "text/plain": [
       "<matplotlib.figure.Figure at 0x131b9b00>"
      ]
     },
     "metadata": {},
     "output_type": "display_data"
    }
   ],
   "source": [
    "#Funcion de probabilidad Uniforme Discreta\n",
    "def funprobun(x):\n",
    "    fpu=[]\n",
    "    for i in range(x):\n",
    "        fpu.append(1/float(x))\n",
    "    return fpu\n",
    "\n",
    "fpu=funprobun(x)\n",
    "   \n",
    "def funacumun(x):\n",
    "    facu=[]\n",
    "    facu.append(fpu[0])\n",
    "    for i in range(x-1):\n",
    "        facu.append(fpu[i+1]+facu[i])\n",
    "    return facu\n",
    "\n",
    "facu=funacumun(x)\n",
    "plt.plot(facu)"
   ]
  },
  {
   "cell_type": "code",
   "execution_count": 53,
   "metadata": {
    "collapsed": false
   },
   "outputs": [
    {
     "name": "stdout",
     "output_type": "stream",
     "text": [
      "[0, 3, 5, 9, 8, 4, 4, 3, 9, 6]\n"
     ]
    }
   ],
   "source": [
    "#funcion inversa Uniforme\n",
    "def finun(x):\n",
    "    p=[]\n",
    "    p=genalev(x)\n",
    "    pi=[]\n",
    "    for i in range(x):\n",
    "        for j in range(len(facu)):\n",
    "            if p[i]<facu[j]:\n",
    "                pi.append(j)\n",
    "                break\n",
    "    return pi      \n",
    "\n",
    "fing=finun(x)\n",
    "print fing"
   ]
  },
  {
   "cell_type": "markdown",
   "metadata": {},
   "source": [
    "##Distribuciones Continuas\n",
    "### Distribucion Exponencial\n",
    "\n",
    "####Funcion de Probabilidad\n",
    "$$F(x)=\\lambda e^{- \\lambda x}$$\n",
    "####Funcion cuantil de la Distribucion exponencial\n",
    "$$F^{-1}(x)=\\frac{-ln(1-p)}{\\lambda}$$"
   ]
  },
  {
   "cell_type": "code",
   "execution_count": 54,
   "metadata": {
    "collapsed": false
   },
   "outputs": [
    {
     "name": "stdout",
     "output_type": "stream",
     "text": [
      "0.03\n",
      "0.17\n",
      "0.39\n",
      "1.67\n",
      "0.99\n",
      "0.30\n",
      "0.28\n",
      "0.21\n",
      "1.17\n",
      "0.48\n"
     ]
    }
   ],
   "source": [
    "lam=1\n",
    "\n",
    "def funprobexp(l,x):\n",
    "    lm=[]\n",
    "    for i in range(x):\n",
    "        lm.append(l*math.exp(-l*i))\n",
    "    return lm\n",
    "fpe=funprobexp(lam,x)\n",
    "\n",
    "def funcuanexp(x,l):\n",
    "    p=[]\n",
    "    p=genalev(x)\n",
    "    pi=[]\n",
    "    for i in range(x):\n",
    "        pi.append(-math.log10(1-p[i])/l)\n",
    "    return pi\n",
    "\n",
    "fcue=funcuanexp(x,lam)\n",
    "for i in range(len(fcue)):\n",
    "    print \"{0:.2f}\".format(fcue[i])"
   ]
  },
  {
   "cell_type": "markdown",
   "metadata": {},
   "source": [
    "### Distribucion Cauchy\n",
    "\n",
    "####Funcion de Probabilidad\n",
    "$$F(x)=\\frac{1} {\\pi}arctan(\\frac{x-xo}{\\gamma})+\\frac{1}{2}$$\n",
    "\n",
    "####Funcion Cuantil de la Distribucion Cauchy\n",
    "$$F(x)=xo+\\gamma tan[\\pi (p-\\frac{1}{2})]$$"
   ]
  },
  {
   "cell_type": "code",
   "execution_count": 57,
   "metadata": {
    "collapsed": false
   },
   "outputs": [
    {
     "name": "stdout",
     "output_type": "stream",
     "text": [
      "0.20\n",
      "1.55\n",
      "-3.26\n",
      "-0.07\n",
      "-0.33\n",
      "55.20\n",
      "13.30\n",
      "2.66\n",
      "-0.22\n",
      "-1.73\n"
     ]
    }
   ],
   "source": [
    "def funcuancau(x,xo,g):\n",
    "    p=[]\n",
    "    p=genalev(x)\n",
    "    pi=[]\n",
    "    for i in range(x):\n",
    "        pi.append(xo+g*math.tan(math.pi*(p[i]-(1/2))))\n",
    "    return pi\n",
    "\n",
    "fcuc=funcuancau(x,0,1)\n",
    "for i in range(len(fcuc)):\n",
    "    print \"{0:.2f}\".format(fcuc[i])"
   ]
  },
  {
   "cell_type": "markdown",
   "metadata": {},
   "source": [
    "### Distribucion Erlang\n",
    "\n",
    "####Funcion de Probabilidad\n",
    "$$F(x)=\\frac{\\lambda ^{r}x^{r-1} e ^{\\lambda x}}{(r-1)!}$$"
   ]
  },
  {
   "cell_type": "code",
   "execution_count": null,
   "metadata": {
    "collapsed": true
   },
   "outputs": [],
   "source": []
  }
 ],
 "metadata": {
  "kernelspec": {
   "display_name": "Python 2",
   "language": "python",
   "name": "python2"
  },
  "language_info": {
   "codemirror_mode": {
    "name": "ipython",
    "version": 2
   },
   "file_extension": ".py",
   "mimetype": "text/x-python",
   "name": "python",
   "nbconvert_exporter": "python",
   "pygments_lexer": "ipython2",
   "version": "2.7.10"
  }
 },
 "nbformat": 4,
 "nbformat_minor": 0
}
